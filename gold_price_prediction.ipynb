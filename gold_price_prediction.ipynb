{
 "cells": [
  {
   "cell_type": "markdown",
   "id": "7c27327d",
   "metadata": {},
   "source": [
    "## Gold Price Prediction Using Machine Learning"
   ]
  },
  {
   "cell_type": "markdown",
   "id": "a5e7bbe4",
   "metadata": {},
   "source": [
    "## Importing the Libraries"
   ]
  },
  {
   "cell_type": "code",
   "execution_count": 1,
   "id": "82d46ed9",
   "metadata": {},
   "outputs": [],
   "source": [
    "import numpy as np\n",
    "import pandas as pd\n",
    "import matplotlib.pyplot as plt\n",
    "import seaborn as sns\n",
    "from sklearn.model_selection import train_test_split\n",
    "from sklearn.ensemble import RandomForestRegressor\n",
    "from sklearn import metrics"
   ]
  },
  {
   "cell_type": "markdown",
   "id": "e6b1bc01",
   "metadata": {},
   "source": [
    "## Data Collection and Processing"
   ]
  },
  {
   "cell_type": "code",
   "execution_count": 3,
   "id": "4ad0f420",
   "metadata": {},
   "outputs": [],
   "source": [
    "# Loading csv to Dataframe\n",
    "gold_price_data = pd.read_csv('gld_price_data.csv')"
   ]
  },
  {
   "cell_type": "code",
   "execution_count": 4,
   "id": "e6fe9c63",
   "metadata": {},
   "outputs": [
    {
     "data": {
      "text/html": [
       "<div>\n",
       "<style scoped>\n",
       "    .dataframe tbody tr th:only-of-type {\n",
       "        vertical-align: middle;\n",
       "    }\n",
       "\n",
       "    .dataframe tbody tr th {\n",
       "        vertical-align: top;\n",
       "    }\n",
       "\n",
       "    .dataframe thead th {\n",
       "        text-align: right;\n",
       "    }\n",
       "</style>\n",
       "<table border=\"1\" class=\"dataframe\">\n",
       "  <thead>\n",
       "    <tr style=\"text-align: right;\">\n",
       "      <th></th>\n",
       "      <th>Date</th>\n",
       "      <th>SPX</th>\n",
       "      <th>GLD</th>\n",
       "      <th>USO</th>\n",
       "      <th>SLV</th>\n",
       "      <th>EUR/USD</th>\n",
       "    </tr>\n",
       "  </thead>\n",
       "  <tbody>\n",
       "    <tr>\n",
       "      <th>0</th>\n",
       "      <td>1/2/2008</td>\n",
       "      <td>1447.160034</td>\n",
       "      <td>84.860001</td>\n",
       "      <td>78.470001</td>\n",
       "      <td>15.180</td>\n",
       "      <td>1.471692</td>\n",
       "    </tr>\n",
       "    <tr>\n",
       "      <th>1</th>\n",
       "      <td>1/3/2008</td>\n",
       "      <td>1447.160034</td>\n",
       "      <td>85.570000</td>\n",
       "      <td>78.370003</td>\n",
       "      <td>15.285</td>\n",
       "      <td>1.474491</td>\n",
       "    </tr>\n",
       "    <tr>\n",
       "      <th>2</th>\n",
       "      <td>1/4/2008</td>\n",
       "      <td>1411.630005</td>\n",
       "      <td>85.129997</td>\n",
       "      <td>77.309998</td>\n",
       "      <td>15.167</td>\n",
       "      <td>1.475492</td>\n",
       "    </tr>\n",
       "    <tr>\n",
       "      <th>3</th>\n",
       "      <td>1/7/2008</td>\n",
       "      <td>1416.180054</td>\n",
       "      <td>84.769997</td>\n",
       "      <td>75.500000</td>\n",
       "      <td>15.053</td>\n",
       "      <td>1.468299</td>\n",
       "    </tr>\n",
       "    <tr>\n",
       "      <th>4</th>\n",
       "      <td>1/8/2008</td>\n",
       "      <td>1390.189941</td>\n",
       "      <td>86.779999</td>\n",
       "      <td>76.059998</td>\n",
       "      <td>15.590</td>\n",
       "      <td>1.557099</td>\n",
       "    </tr>\n",
       "  </tbody>\n",
       "</table>\n",
       "</div>"
      ],
      "text/plain": [
       "       Date          SPX        GLD        USO     SLV   EUR/USD\n",
       "0  1/2/2008  1447.160034  84.860001  78.470001  15.180  1.471692\n",
       "1  1/3/2008  1447.160034  85.570000  78.370003  15.285  1.474491\n",
       "2  1/4/2008  1411.630005  85.129997  77.309998  15.167  1.475492\n",
       "3  1/7/2008  1416.180054  84.769997  75.500000  15.053  1.468299\n",
       "4  1/8/2008  1390.189941  86.779999  76.059998  15.590  1.557099"
      ]
     },
     "execution_count": 4,
     "metadata": {},
     "output_type": "execute_result"
    }
   ],
   "source": [
    "#print first 5 rows in the dataframe\n",
    "gold_price_data.head()"
   ]
  },
  {
   "cell_type": "code",
   "execution_count": 5,
   "id": "94ed1a15",
   "metadata": {},
   "outputs": [
    {
     "data": {
      "text/html": [
       "<div>\n",
       "<style scoped>\n",
       "    .dataframe tbody tr th:only-of-type {\n",
       "        vertical-align: middle;\n",
       "    }\n",
       "\n",
       "    .dataframe tbody tr th {\n",
       "        vertical-align: top;\n",
       "    }\n",
       "\n",
       "    .dataframe thead th {\n",
       "        text-align: right;\n",
       "    }\n",
       "</style>\n",
       "<table border=\"1\" class=\"dataframe\">\n",
       "  <thead>\n",
       "    <tr style=\"text-align: right;\">\n",
       "      <th></th>\n",
       "      <th>Date</th>\n",
       "      <th>SPX</th>\n",
       "      <th>GLD</th>\n",
       "      <th>USO</th>\n",
       "      <th>SLV</th>\n",
       "      <th>EUR/USD</th>\n",
       "    </tr>\n",
       "  </thead>\n",
       "  <tbody>\n",
       "    <tr>\n",
       "      <th>2285</th>\n",
       "      <td>5/8/2018</td>\n",
       "      <td>2671.919922</td>\n",
       "      <td>124.589996</td>\n",
       "      <td>14.0600</td>\n",
       "      <td>15.5100</td>\n",
       "      <td>1.186789</td>\n",
       "    </tr>\n",
       "    <tr>\n",
       "      <th>2286</th>\n",
       "      <td>5/9/2018</td>\n",
       "      <td>2697.790039</td>\n",
       "      <td>124.330002</td>\n",
       "      <td>14.3700</td>\n",
       "      <td>15.5300</td>\n",
       "      <td>1.184722</td>\n",
       "    </tr>\n",
       "    <tr>\n",
       "      <th>2287</th>\n",
       "      <td>5/10/2018</td>\n",
       "      <td>2723.070068</td>\n",
       "      <td>125.180000</td>\n",
       "      <td>14.4100</td>\n",
       "      <td>15.7400</td>\n",
       "      <td>1.191753</td>\n",
       "    </tr>\n",
       "    <tr>\n",
       "      <th>2288</th>\n",
       "      <td>5/14/2018</td>\n",
       "      <td>2730.129883</td>\n",
       "      <td>124.489998</td>\n",
       "      <td>14.3800</td>\n",
       "      <td>15.5600</td>\n",
       "      <td>1.193118</td>\n",
       "    </tr>\n",
       "    <tr>\n",
       "      <th>2289</th>\n",
       "      <td>5/16/2018</td>\n",
       "      <td>2725.780029</td>\n",
       "      <td>122.543800</td>\n",
       "      <td>14.4058</td>\n",
       "      <td>15.4542</td>\n",
       "      <td>1.182033</td>\n",
       "    </tr>\n",
       "  </tbody>\n",
       "</table>\n",
       "</div>"
      ],
      "text/plain": [
       "           Date          SPX         GLD      USO      SLV   EUR/USD\n",
       "2285   5/8/2018  2671.919922  124.589996  14.0600  15.5100  1.186789\n",
       "2286   5/9/2018  2697.790039  124.330002  14.3700  15.5300  1.184722\n",
       "2287  5/10/2018  2723.070068  125.180000  14.4100  15.7400  1.191753\n",
       "2288  5/14/2018  2730.129883  124.489998  14.3800  15.5600  1.193118\n",
       "2289  5/16/2018  2725.780029  122.543800  14.4058  15.4542  1.182033"
      ]
     },
     "execution_count": 5,
     "metadata": {},
     "output_type": "execute_result"
    }
   ],
   "source": [
    "# print last 5 rows in the dataframe\n",
    "gold_price_data.tail()"
   ]
  },
  {
   "cell_type": "code",
   "execution_count": 6,
   "id": "5f7cd2b3",
   "metadata": {},
   "outputs": [
    {
     "data": {
      "text/plain": [
       "(2290, 6)"
      ]
     },
     "execution_count": 6,
     "metadata": {},
     "output_type": "execute_result"
    }
   ],
   "source": [
    "# to find the shape of the dataframe\n",
    "gold_price_data.shape"
   ]
  },
  {
   "cell_type": "code",
   "execution_count": 7,
   "id": "b61e5940",
   "metadata": {},
   "outputs": [
    {
     "data": {
      "text/plain": [
       "Date        object\n",
       "SPX        float64\n",
       "GLD        float64\n",
       "USO        float64\n",
       "SLV        float64\n",
       "EUR/USD    float64\n",
       "dtype: object"
      ]
     },
     "execution_count": 7,
     "metadata": {},
     "output_type": "execute_result"
    }
   ],
   "source": [
    "# to get datatype information in the dataframe \n",
    "gold_price_data.dtypes"
   ]
  },
  {
   "cell_type": "code",
   "execution_count": 8,
   "id": "0993afe8",
   "metadata": {},
   "outputs": [
    {
     "data": {
      "text/plain": [
       "Date       0\n",
       "SPX        0\n",
       "GLD        0\n",
       "USO        0\n",
       "SLV        0\n",
       "EUR/USD    0\n",
       "dtype: int64"
      ]
     },
     "execution_count": 8,
     "metadata": {},
     "output_type": "execute_result"
    }
   ],
   "source": [
    "# to check if there any missing values in the dataframe\n",
    "gold_price_data.isnull().sum()"
   ]
  },
  {
   "cell_type": "code",
   "execution_count": 9,
   "id": "2a123d41",
   "metadata": {},
   "outputs": [
    {
     "data": {
      "text/html": [
       "<div>\n",
       "<style scoped>\n",
       "    .dataframe tbody tr th:only-of-type {\n",
       "        vertical-align: middle;\n",
       "    }\n",
       "\n",
       "    .dataframe tbody tr th {\n",
       "        vertical-align: top;\n",
       "    }\n",
       "\n",
       "    .dataframe thead th {\n",
       "        text-align: right;\n",
       "    }\n",
       "</style>\n",
       "<table border=\"1\" class=\"dataframe\">\n",
       "  <thead>\n",
       "    <tr style=\"text-align: right;\">\n",
       "      <th></th>\n",
       "      <th>SPX</th>\n",
       "      <th>GLD</th>\n",
       "      <th>USO</th>\n",
       "      <th>SLV</th>\n",
       "      <th>EUR/USD</th>\n",
       "    </tr>\n",
       "  </thead>\n",
       "  <tbody>\n",
       "    <tr>\n",
       "      <th>count</th>\n",
       "      <td>2290.000000</td>\n",
       "      <td>2290.000000</td>\n",
       "      <td>2290.000000</td>\n",
       "      <td>2290.000000</td>\n",
       "      <td>2290.000000</td>\n",
       "    </tr>\n",
       "    <tr>\n",
       "      <th>mean</th>\n",
       "      <td>1654.315776</td>\n",
       "      <td>122.732875</td>\n",
       "      <td>31.842221</td>\n",
       "      <td>20.084997</td>\n",
       "      <td>1.283653</td>\n",
       "    </tr>\n",
       "    <tr>\n",
       "      <th>std</th>\n",
       "      <td>519.111540</td>\n",
       "      <td>23.283346</td>\n",
       "      <td>19.523517</td>\n",
       "      <td>7.092566</td>\n",
       "      <td>0.131547</td>\n",
       "    </tr>\n",
       "    <tr>\n",
       "      <th>min</th>\n",
       "      <td>676.530029</td>\n",
       "      <td>70.000000</td>\n",
       "      <td>7.960000</td>\n",
       "      <td>8.850000</td>\n",
       "      <td>1.039047</td>\n",
       "    </tr>\n",
       "    <tr>\n",
       "      <th>25%</th>\n",
       "      <td>1239.874969</td>\n",
       "      <td>109.725000</td>\n",
       "      <td>14.380000</td>\n",
       "      <td>15.570000</td>\n",
       "      <td>1.171313</td>\n",
       "    </tr>\n",
       "    <tr>\n",
       "      <th>50%</th>\n",
       "      <td>1551.434998</td>\n",
       "      <td>120.580002</td>\n",
       "      <td>33.869999</td>\n",
       "      <td>17.268500</td>\n",
       "      <td>1.303297</td>\n",
       "    </tr>\n",
       "    <tr>\n",
       "      <th>75%</th>\n",
       "      <td>2073.010070</td>\n",
       "      <td>132.840004</td>\n",
       "      <td>37.827501</td>\n",
       "      <td>22.882500</td>\n",
       "      <td>1.369971</td>\n",
       "    </tr>\n",
       "    <tr>\n",
       "      <th>max</th>\n",
       "      <td>2872.870117</td>\n",
       "      <td>184.589996</td>\n",
       "      <td>117.480003</td>\n",
       "      <td>47.259998</td>\n",
       "      <td>1.598798</td>\n",
       "    </tr>\n",
       "  </tbody>\n",
       "</table>\n",
       "</div>"
      ],
      "text/plain": [
       "               SPX          GLD          USO          SLV      EUR/USD\n",
       "count  2290.000000  2290.000000  2290.000000  2290.000000  2290.000000\n",
       "mean   1654.315776   122.732875    31.842221    20.084997     1.283653\n",
       "std     519.111540    23.283346    19.523517     7.092566     0.131547\n",
       "min     676.530029    70.000000     7.960000     8.850000     1.039047\n",
       "25%    1239.874969   109.725000    14.380000    15.570000     1.171313\n",
       "50%    1551.434998   120.580002    33.869999    17.268500     1.303297\n",
       "75%    2073.010070   132.840004    37.827501    22.882500     1.369971\n",
       "max    2872.870117   184.589996   117.480003    47.259998     1.598798"
      ]
     },
     "execution_count": 9,
     "metadata": {},
     "output_type": "execute_result"
    }
   ],
   "source": [
    "# statistical measures of the dataframe \n",
    "gold_price_data.describe()"
   ]
  },
  {
   "cell_type": "markdown",
   "id": "fd2f6db2",
   "metadata": {},
   "source": [
    "    Correlation Between Columns in the dataframe:\n",
    "\n",
    "    1.Postive Correlation\n",
    "    2.Negative Correlation"
   ]
  },
  {
   "cell_type": "code",
   "execution_count": 10,
   "id": "79ff742a",
   "metadata": {},
   "outputs": [],
   "source": [
    "correlation = gold_price_data.corr()"
   ]
  },
  {
   "cell_type": "code",
   "execution_count": 11,
   "id": "61a987bc",
   "metadata": {},
   "outputs": [
    {
     "data": {
      "text/plain": [
       "<AxesSubplot:>"
      ]
     },
     "execution_count": 11,
     "metadata": {},
     "output_type": "execute_result"
    },
    {
     "data": {
      "image/png": "[encoded data removed]",
      "text/plain": [
       "<Figure size 576x576 with 2 Axes>"
      ]
     },
     "metadata": {
      "needs_background": "light"
     },
     "output_type": "display_data"
    }
   ],
   "source": [
    "# heatmap for understanding the correlation\n",
    "plt.figure(figsize = (8,8))\n",
    "sns.heatmap(correlation,cbar=True,square=True,fmt='.1f',annot=True, annot_kws={'size':8},cmap='Greens')"
   ]
  },
  {
   "cell_type": "code",
   "execution_count": 12,
   "id": "4f9de3a2",
   "metadata": {},
   "outputs": [
    {
     "name": "stdout",
     "output_type": "stream",
     "text": [
      "SPX        0.049345\n",
      "GLD        1.000000\n",
      "USO       -0.186360\n",
      "SLV        0.866632\n",
      "EUR/USD   -0.024375\n",
      "Name: GLD, dtype: float64\n"
     ]
    }
   ],
   "source": [
    "# to show correlation values of GLD\n",
    "print(correlation['GLD'])"
   ]
  },
  {
   "cell_type": "code",
   "execution_count": 13,
   "id": "ddf1e0c1",
   "metadata": {},
   "outputs": [
    {
     "name": "stderr",
     "output_type": "stream",
     "text": [
      "C:\\Users\\rs952\\anaconda3\\lib\\site-packages\\seaborn\\distributions.py:2619: FutureWarning: `distplot` is a deprecated function and will be removed in a future version. Please adapt your code to use either `displot` (a figure-level function with similar flexibility) or `histplot` (an axes-level function for histograms).\n",
      "  warnings.warn(msg, FutureWarning)\n"
     ]
    },
    {
     "data": {
      "text/plain": [
       "<AxesSubplot:xlabel='GLD', ylabel='Density'>"
      ]
     },
     "execution_count": 13,
     "metadata": {},
     "output_type": "execute_result"
    },
    {
     "data": {
      "image/png": "[encoded data removed]",
      "text/plain": [
       "<Figure size 432x288 with 1 Axes>"
      ]
     },
     "metadata": {
      "needs_background": "light"
     },
     "output_type": "display_data"
    }
   ],
   "source": [
    "# checking the distribution of GLD Price \n",
    "sns.distplot(gold_price_data['GLD'],color='red')"
   ]
  },
  {
   "cell_type": "markdown",
   "id": "9c3ab24c",
   "metadata": {},
   "source": [
    "    Splitting the Features and Targets \n",
    "    \n",
    "    The Feature are\n",
    "    SPX, USO, SLV, EUR/USD\n",
    "    \n",
    "    Target are\n",
    "    GLD"
   ]
  },
  {
   "cell_type": "code",
   "execution_count": 14,
   "id": "29fd2aa3",
   "metadata": {},
   "outputs": [],
   "source": [
    "X = gold_price_data.drop(['Date','GLD'],axis = 1)\n",
    "Y = gold_price_data['GLD']"
   ]
  },
  {
   "cell_type": "code",
   "execution_count": 15,
   "id": "1aaee446",
   "metadata": {},
   "outputs": [
    {
     "name": "stdout",
     "output_type": "stream",
     "text": [
      "              SPX        USO      SLV   EUR/USD\n",
      "0     1447.160034  78.470001  15.1800  1.471692\n",
      "1     1447.160034  78.370003  15.2850  1.474491\n",
      "2     1411.630005  77.309998  15.1670  1.475492\n",
      "3     1416.180054  75.500000  15.0530  1.468299\n",
      "4     1390.189941  76.059998  15.5900  1.557099\n",
      "...           ...        ...      ...       ...\n",
      "2285  2671.919922  14.060000  15.5100  1.186789\n",
      "2286  2697.790039  14.370000  15.5300  1.184722\n",
      "2287  2723.070068  14.410000  15.7400  1.191753\n",
      "2288  2730.129883  14.380000  15.5600  1.193118\n",
      "2289  2725.780029  14.405800  15.4542  1.182033\n",
      "\n",
      "[2290 rows x 4 columns]\n"
     ]
    }
   ],
   "source": [
    "print(X)"
   ]
  },
  {
   "cell_type": "code",
   "execution_count": 16,
   "id": "571a5fc1",
   "metadata": {},
   "outputs": [
    {
     "name": "stdout",
     "output_type": "stream",
     "text": [
      "0        84.860001\n",
      "1        85.570000\n",
      "2        85.129997\n",
      "3        84.769997\n",
      "4        86.779999\n",
      "           ...    \n",
      "2285    124.589996\n",
      "2286    124.330002\n",
      "2287    125.180000\n",
      "2288    124.489998\n",
      "2289    122.543800\n",
      "Name: GLD, Length: 2290, dtype: float64\n"
     ]
    }
   ],
   "source": [
    "print(Y)"
   ]
  },
  {
   "cell_type": "markdown",
   "id": "eabdaefe",
   "metadata": {},
   "source": [
    "## Spliting Training and Test Data"
   ]
  },
  {
   "cell_type": "code",
   "execution_count": 17,
   "id": "66e7da37",
   "metadata": {},
   "outputs": [],
   "source": [
    "Xtrain,Xtest,Ytrain,Ytest = train_test_split(X,Y,test_size=0.2,random_state=2)"
   ]
  },
  {
   "cell_type": "markdown",
   "id": "e59c57dd",
   "metadata": {},
   "source": [
    "## Model Training"
   ]
  },
  {
   "cell_type": "markdown",
   "id": "87ca5c36",
   "metadata": {},
   "source": [
    "### RandomForest Regressor"
   ]
  },
  {
   "cell_type": "code",
   "execution_count": 18,
   "id": "1ef159e5",
   "metadata": {},
   "outputs": [],
   "source": [
    "regressor = RandomForestRegressor(n_estimators=100)"
   ]
  },
  {
   "cell_type": "code",
   "execution_count": 19,
   "id": "c527e992",
   "metadata": {},
   "outputs": [
    {
     "data": {
      "text/html": [
       "<style>#sk-container-id-1 {color: black;background-color: white;}#sk-container-id-1 pre{padding: 0;}#sk-container-id-1 div.sk-toggleable {background-color: white;}#sk-container-id-1 label.sk-toggleable__label {cursor: pointer;display: block;width: 100%;margin-bottom: 0;padding: 0.3em;box-sizing: border-box;text-align: center;}#sk-container-id-1 label.sk-toggleable__label-arrow:before {content: \"▸\";float: left;margin-right: 0.25em;color: #696969;}#sk-container-id-1 label.sk-toggleable__label-arrow:hover:before {color: black;}#sk-container-id-1 div.sk-estimator:hover label.sk-toggleable__label-arrow:before {color: black;}#sk-container-id-1 div.sk-toggleable__content {max-height: 0;max-width: 0;overflow: hidden;text-align: left;background-color: #f0f8ff;}#sk-container-id-1 div.sk-toggleable__content pre {margin: 0.2em;color: black;border-radius: 0.25em;background-color: #f0f8ff;}#sk-container-id-1 input.sk-toggleable__control:checked~div.sk-toggleable__content {max-height: 200px;max-width: 100%;overflow: auto;}#sk-container-id-1 input.sk-toggleable__control:checked~label.sk-toggleable__label-arrow:before {content: \"▾\";}#sk-container-id-1 div.sk-estimator input.sk-toggleable__control:checked~label.sk-toggleable__label {background-color: #d4ebff;}#sk-container-id-1 div.sk-label input.sk-toggleable__control:checked~label.sk-toggleable__label {background-color: #d4ebff;}#sk-container-id-1 input.sk-hidden--visually {border: 0;clip: rect(1px 1px 1px 1px);clip: rect(1px, 1px, 1px, 1px);height: 1px;margin: -1px;overflow: hidden;padding: 0;position: absolute;width: 1px;}#sk-container-id-1 div.sk-estimator {font-family: monospace;background-color: #f0f8ff;border: 1px dotted black;border-radius: 0.25em;box-sizing: border-box;margin-bottom: 0.5em;}#sk-container-id-1 div.sk-estimator:hover {background-color: #d4ebff;}#sk-container-id-1 div.sk-parallel-item::after {content: \"\";width: 100%;border-bottom: 1px solid gray;flex-grow: 1;}#sk-container-id-1 div.sk-label:hover label.sk-toggleable__label {background-color: #d4ebff;}#sk-container-id-1 div.sk-serial::before {content: \"\";position: absolute;border-left: 1px solid gray;box-sizing: border-box;top: 0;bottom: 0;left: 50%;z-index: 0;}#sk-container-id-1 div.sk-serial {display: flex;flex-direction: column;align-items: center;background-color: white;padding-right: 0.2em;padding-left: 0.2em;position: relative;}#sk-container-id-1 div.sk-item {position: relative;z-index: 1;}#sk-container-id-1 div.sk-parallel {display: flex;align-items: stretch;justify-content: center;background-color: white;position: relative;}#sk-container-id-1 div.sk-item::before, #sk-container-id-1 div.sk-parallel-item::before {content: \"\";position: absolute;border-left: 1px solid gray;box-sizing: border-box;top: 0;bottom: 0;left: 50%;z-index: -1;}#sk-container-id-1 div.sk-parallel-item {display: flex;flex-direction: column;z-index: 1;position: relative;background-color: white;}#sk-container-id-1 div.sk-parallel-item:first-child::after {align-self: flex-end;width: 50%;}#sk-container-id-1 div.sk-parallel-item:last-child::after {align-self: flex-start;width: 50%;}#sk-container-id-1 div.sk-parallel-item:only-child::after {width: 0;}#sk-container-id-1 div.sk-dashed-wrapped {border: 1px dashed gray;margin: 0 0.4em 0.5em 0.4em;box-sizing: border-box;padding-bottom: 0.4em;background-color: white;}#sk-container-id-1 div.sk-label label {font-family: monospace;font-weight: bold;display: inline-block;line-height: 1.2em;}#sk-container-id-1 div.sk-label-container {text-align: center;}#sk-container-id-1 div.sk-container {/* jupyter's `normalize.less` sets `[hidden] { display: none; }` but bootstrap.min.css set `[hidden] { display: none !important; }` so we also need the `!important` here to be able to override the default hidden behavior on the sphinx rendered scikit-learn.org. See: https://github.com/scikit-learn/scikit-learn/issues/21755 */display: inline-block !important;position: relative;}#sk-container-id-1 div.sk-text-repr-fallback {display: none;}</style><div id=\"sk-container-id-1\" class=\"sk-top-container\"><div class=\"sk-text-repr-fallback\"><pre>RandomForestRegressor()</pre><b>In a Jupyter environment, please rerun this cell to show the HTML representation or trust the notebook. <br />On GitHub, the HTML representation is unable to render, please try loading this page with nbviewer.org.</b></div><div class=\"sk-container\" hidden><div class=\"sk-item\"><div class=\"sk-estimator sk-toggleable\"><input class=\"sk-toggleable__control sk-hidden--visually\" id=\"sk-estimator-id-1\" type=\"checkbox\" checked><label for=\"sk-estimator-id-1\" class=\"sk-toggleable__label sk-toggleable__label-arrow\">RandomForestRegressor</label><div class=\"sk-toggleable__content\"><pre>RandomForestRegressor()</pre></div></div></div></div></div>"
      ],
      "text/plain": [
       "RandomForestRegressor()"
      ]
     },
     "execution_count": 19,
     "metadata": {},
     "output_type": "execute_result"
    }
   ],
   "source": [
    "#Training The Model\n",
    "regressor.fit(Xtrain,Ytrain)"
   ]
  },
  {
   "cell_type": "markdown",
   "id": "7de900d2",
   "metadata": {},
   "source": [
    "## Model Evaluation"
   ]
  },
  {
   "cell_type": "code",
   "execution_count": 20,
   "id": "271af9d4",
   "metadata": {},
   "outputs": [],
   "source": [
    "# Prediction on test data\n",
    "test_prediction = regressor.predict(Xtest)"
   ]
  },
  {
   "cell_type": "code",
   "execution_count": 21,
   "id": "81c84ae2",
   "metadata": {},
   "outputs": [
    {
     "name": "stdout",
     "output_type": "stream",
     "text": [
      "[168.55749939  82.12409987 116.19970037 127.64920093 120.57860142\n",
      " 154.89539759 150.5019979  126.28890016 117.429199   125.99370088\n",
      " 116.62650106 171.93560078 141.89079822 167.90439889 115.24340002\n",
      " 117.5446006  140.88300279 170.33380077 159.27990363 158.18929918\n",
      " 155.25150033 125.45150026 176.13209907 157.00900393 125.13820044\n",
      "  93.90949961  77.64519999 120.45600007 119.14899926 167.55029981\n",
      "  88.13710047 125.20409994  91.19530113 117.54099993 121.20329913\n",
      " 136.41130131 115.46280127 115.49210066 147.0872002  107.30600104\n",
      " 104.03380261  87.22529818 126.38950034 118.13209988 152.45899874\n",
      " 119.64279995 108.41579984 108.45629829  92.96219999 127.24719726\n",
      "  75.29290041 113.73959909 121.46130031 111.31519945 118.93009913\n",
      " 120.91829936 159.61469951 168.3220015  147.19679747  85.88859887\n",
      "  94.6426004   86.82099899  90.66089993 119.12240058 126.46930038\n",
      " 127.43330022 169.63519958 122.3533993  117.35259879  98.40610024\n",
      " 168.76910129 143.47419805 132.18510224 121.18800209 120.9287993\n",
      " 119.70710063 114.43560178 118.1873003  107.23280084 127.87020098\n",
      " 114.15079973 107.79099994 116.68440105 119.66599855  88.89620025\n",
      "  88.27939874 146.83580155 127.27510013 113.17000034 110.2427983\n",
      " 107.91679896  77.50519893 170.07870133 114.12169929 121.66519886\n",
      " 127.7416013  155.00809824  91.8113994  135.08610116 159.02970329\n",
      " 125.24060077 125.3507006  130.59860197 114.70870135 119.85979986\n",
      "  92.03719982 110.39779901 168.24009944 157.37529877 114.29429961\n",
      " 106.61440141  79.92959961 113.41520022 125.84270076 107.50019953\n",
      " 119.20350126 155.49390308 159.6603997  120.13889999 134.4868023\n",
      " 101.22420014 118.03539769 119.38220021 112.835701   102.78479936\n",
      " 160.32939825  99.44200051 147.25429888 125.63390089 169.81459878\n",
      " 125.73969875 127.42539739 127.23200122 113.82219923 112.95510081\n",
      " 123.68939887 102.19809904  89.27149985 124.2428996  102.02389928\n",
      " 107.30989889 113.82740005 117.51590077  99.28389954 121.7927006\n",
      " 163.72819905  87.52869869 106.89209959 117.27600084 127.66520111\n",
      " 123.89140059  80.59489951 120.59060028 157.78269835  88.07889947\n",
      " 110.27849966 118.92999924 172.72889861 102.97709928 105.49520023\n",
      " 123.01860016 158.06909785  87.53509857  93.27730043 112.68360037\n",
      " 176.85769886 114.26429975 119.33960012  94.75050119 125.76440038\n",
      " 166.38250179 114.79950104 116.83000127  88.30319883 148.91340083\n",
      " 120.37439922  89.57879978 111.88160014 117.2456999  118.82180106\n",
      "  88.00069947  94.0221     117.08040028 118.5403019  120.05090018\n",
      " 126.83239763 121.94119969 149.67140012 165.61370156 118.64019978\n",
      " 120.28260148 151.14780039 118.76629915 173.22959878 105.52319937\n",
      " 104.94060093 148.94880092 113.74850033 124.74480134 147.0386\n",
      " 119.63410091 115.22120001 112.83640007 113.44050203 141.90690224\n",
      " 117.82639766 102.93620016 115.87220109 103.6132018   98.83120051\n",
      " 117.41540087  90.65440007  91.67080019 153.93929906 102.72989978\n",
      " 154.63400093 114.31990154 139.14780107  90.01559848 115.56379926\n",
      " 114.33549941 122.86190028 121.89869997 164.77070095  92.8520993\n",
      " 135.00880156 121.4506992  120.92250072 104.70090009 144.29450281\n",
      " 122.0755991  116.70260061 113.12070087 127.20899697 122.74439935\n",
      " 125.82189891 121.28610038  86.88669914 132.14890126 144.84130157\n",
      "  92.78899972 160.14650017 159.33780305 126.45649872 164.86519973\n",
      " 109.12970029 109.82460147 103.73189839  94.17040073 127.80620302\n",
      " 107.10260069 162.59730017 121.75310054 131.85999967 130.74130187\n",
      " 160.16180036  90.21109863 175.29280235 128.51620033 126.98629792\n",
      "  86.4855995  124.48229928 150.32959712  89.58400001 106.95429925\n",
      " 108.92319983  84.38119897 135.7344001  154.92720227 139.31040378\n",
      "  74.04570019 152.42560074 126.35289949 126.77450016 127.4678992\n",
      " 108.57319971 156.04589942 114.48950136 116.94020101 125.71629917\n",
      " 154.12020152 121.27639978 156.36199938  93.00830078 125.53820139\n",
      " 125.69920028  87.93820054  92.33809906 126.07139974 128.11460294\n",
      " 113.10200061 117.84439739 121.13860018 127.08589744 119.94400104\n",
      " 136.26230091  93.89729947 119.90820025 113.34840128  94.16619931\n",
      " 108.87039966  87.26079927 109.1118994   89.66569962  92.41310016\n",
      " 131.76000336 162.40750097  89.38050009 119.6036008  133.38520187\n",
      " 123.77310038 128.03060164 102.02669856  89.19529888 131.91350089\n",
      " 119.81310058 108.76909986 168.61130131 115.14760039  86.65299903\n",
      " 118.92460045  90.76529965 161.51490011 116.38630051 121.53200023\n",
      " 160.15419826 120.06149921 112.43459943 108.44359851 126.61849972\n",
      "  76.26450015 103.04739973 127.53700252 121.78369907  92.54559974\n",
      " 131.61880083 118.17420086 115.96859946 154.22820318 159.6155008\n",
      " 110.22379947 154.34279793 119.34920073 160.36760013 118.5335004\n",
      " 158.44279897 115.15639917 116.54250026 149.23969837 114.74710106\n",
      " 125.70629891 166.76809953 117.83250009 124.86599944 153.31370399\n",
      " 153.5149026  132.09019913 114.76230062 121.27990208 125.07580095\n",
      "  89.71050045 123.10119992 154.62060121 111.80730049 106.6942998\n",
      " 161.41800114 118.5140998  165.52170009 134.05500038 114.96599932\n",
      " 152.98289899 168.65290086 115.50150005 113.9665013  158.36129872\n",
      "  85.07189889 127.1597005  127.89650022 128.85190017 124.33240091\n",
      " 123.8927005   90.57380086 153.11850001  97.1581998  137.12289967\n",
      "  89.17969913 107.68450014 115.01140047 112.96220094 124.30309896\n",
      "  91.41919883 125.5331014  162.57129924 119.92569913 165.0519003\n",
      " 126.77729768 112.32839998 127.45669952  94.93399921  91.09379975\n",
      " 103.05959901 120.90720011  83.31759945 126.34469977 160.08840506\n",
      " 117.07600093 118.3024996  119.96049996 122.70129969 120.06960117\n",
      " 121.48870026 118.38960058 107.03249984 148.36090052 126.34539833\n",
      " 115.6215008   73.80290027 127.80580077 153.54150092 122.16919988\n",
      " 125.57390087  88.77570027 103.64849881 125.01950022 120.32590032\n",
      "  73.40900109 151.40899918 121.2463005  104.42819993  86.42519765\n",
      " 115.37969932 172.17249881 119.92259988 160.11699756 113.25849919\n",
      " 121.26010017 118.56690091  96.04079989 118.90070024 125.80530039\n",
      " 118.57969951  95.85170027 154.17700187 121.94850011 147.85429974\n",
      " 159.68180285 113.53830016 122.51499914 149.67729834 127.58420048\n",
      " 165.96940052 135.3541002  119.97849952 167.01629816 108.38619905\n",
      " 121.53379852 140.06740204 107.45589897]\n"
     ]
    }
   ],
   "source": [
    "print(test_prediction)"
   ]
  },
  {
   "cell_type": "code",
   "execution_count": 22,
   "id": "6f2ba59f",
   "metadata": {},
   "outputs": [
    {
     "name": "stdout",
     "output_type": "stream",
     "text": [
      "R squared Error : 0.9886010818927969\n"
     ]
    }
   ],
   "source": [
    "# R squared error for actual value\n",
    "e_score = metrics.r2_score(Ytest, test_prediction)\n",
    "print(\"R squared Error :\", e_score)"
   ]
  },
  {
   "cell_type": "markdown",
   "id": "c32511e6",
   "metadata": {},
   "source": [
    "### Comparing Actual and Predicted Values Through Plot"
   ]
  },
  {
   "cell_type": "code",
   "execution_count": 23,
   "id": "0643fdbb",
   "metadata": {},
   "outputs": [],
   "source": [
    "Ytest = list(Ytest)"
   ]
  },
  {
   "cell_type": "code",
   "execution_count": 24,
   "id": "ae088173",
   "metadata": {},
   "outputs": [
    {
     "data": {
      "image/png": "[encoded data removed]",
      "text/plain": [
       "<Figure size 432x288 with 1 Axes>"
      ]
     },
     "metadata": {
      "needs_background": "light"
     },
     "output_type": "display_data"
    }
   ],
   "source": [
    "plt.plot(Ytest, color='green', label='Actual Value')\n",
    "plt.plot(test_prediction, color= 'red', label = 'Predicted Value')\n",
    "plt.title('Actual vs Predicted Price')\n",
    "plt.xlabel('No of Values')\n",
    "plt.ylabel('Gold price')\n",
    "plt.legend()\n",
    "plt.show()"
   ]
  }
 ],
 "metadata": {
  "kernelspec": {
   "display_name": "Python 3 (ipykernel)",
   "language": "python",
   "name": "python3"
  },
  "language_info": {
   "codemirror_mode": {
    "name": "ipython",
    "version": 3
   },
   "file_extension": ".py",
   "mimetype": "text/x-python",
   "name": "python",
   "nbconvert_exporter": "python",
   "pygments_lexer": "ipython3",
   "version": "3.9.7"
  }
 },
 "nbformat": 4,
 "nbformat_minor": 5
}
